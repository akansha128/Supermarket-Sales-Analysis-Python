{
 "cells": [
  {
   "cell_type": "markdown",
   "id": "74472ba9",
   "metadata": {},
   "source": [
    "# Importing Libraries"
   ]
  },
  {
   "cell_type": "code",
   "execution_count": null,
   "id": "9871bcd1",
   "metadata": {},
   "outputs": [],
   "source": [
    "import pandas as pd\n",
    "import numpy as np\n",
    "import matplotlib.pyplot as plt\n",
    "import seaborn as sns"
   ]
  },
  {
   "cell_type": "markdown",
   "id": "7e81fb2e",
   "metadata": {},
   "source": [
    "# Load Dataset"
   ]
  },
  {
   "cell_type": "code",
   "execution_count": null,
   "id": "8026c9e0",
   "metadata": {},
   "outputs": [],
   "source": [
    "df = pd.read_csv('supermarket_sales.csv')\n",
    "display(df.head())"
   ]
  },
  {
   "cell_type": "markdown",
   "id": "b1052814",
   "metadata": {},
   "source": [
    "# Data Cleaning"
   ]
  },
  {
   "cell_type": "code",
   "execution_count": null,
   "id": "d35a5c2b",
   "metadata": {},
   "outputs": [],
   "source": [
    "print(\"\\nData Types:\")\n",
    "print(df.dtypes)"
   ]
  },
  {
   "cell_type": "code",
   "execution_count": null,
   "id": "5563556a",
   "metadata": {},
   "outputs": [],
   "source": [
    "print(\"\\nChecking for Missing Values:\")\n",
    "print(df.isnull().sum())"
   ]
  },
  {
   "cell_type": "code",
   "execution_count": null,
   "id": "71063741",
   "metadata": {},
   "outputs": [],
   "source": [
    "# Removing Duplicates\n",
    "df = df.drop_duplicates()"
   ]
  },
  {
   "cell_type": "markdown",
   "id": "82ff9da8",
   "metadata": {},
   "source": [
    "# Data Processing "
   ]
  },
  {
   "cell_type": "code",
   "execution_count": null,
   "id": "4411aa21",
   "metadata": {},
   "outputs": [],
   "source": [
    "# Example: Creating Total Sales Column\n",
    "df['Total Sales'] = df['Unit price'] * df['Quantity']\n",
    "df"
   ]
  },
  {
   "cell_type": "code",
   "execution_count": null,
   "id": "5380012b",
   "metadata": {},
   "outputs": [],
   "source": [
    "# Example: Extracting Day and Month\n",
    "df['Date'] = pd.to_datetime(df['Date'])\n",
    "df['Day'] = df['Date'].dt.day\n",
    "df['Month'] = df['Date'].dt.month\n",
    "df"
   ]
  },
  {
   "cell_type": "markdown",
   "id": "4da5c2b1",
   "metadata": {},
   "source": [
    "# Data Aggregation"
   ]
  },
  {
   "cell_type": "code",
   "execution_count": null,
   "id": "a6686360",
   "metadata": {},
   "outputs": [],
   "source": [
    "monthly_sales_trend = df.groupby('Month')['Total'].sum()\n",
    "gender_distribution = df['Gender'].value_counts(normalize=True) * 100"
   ]
  },
  {
   "cell_type": "markdown",
   "id": "4220b779",
   "metadata": {},
   "source": [
    "# Data Visualization"
   ]
  },
  {
   "cell_type": "code",
   "execution_count": null,
   "id": "093a98a4",
   "metadata": {},
   "outputs": [],
   "source": [
    "# Bar Chart - Total Sales by City\n",
    "plt.figure(figsize=(10, 6))\n",
    "sns.barplot(x='City', y='Total Sales', data=df, estimator=np.sum)\n",
    "plt.title('Total Sales by City')\n",
    "plt.show()\n"
   ]
  },
  {
   "cell_type": "code",
   "execution_count": null,
   "id": "bca9474f",
   "metadata": {},
   "outputs": [],
   "source": [
    "# Pie Chart - Payment Method Distribution\n",
    "payment_counts = df['Payment'].value_counts()\n",
    "plt.figure(figsize=(5, 5))\n",
    "plt.pie(payment_counts, labels=payment_counts.index, autopct='%1.1f%%', startangle=140)\n",
    "plt.axis('equal')\n",
    "plt.title('Payment Method Distribution')\n",
    "plt.show()"
   ]
  },
  {
   "cell_type": "code",
   "execution_count": null,
   "id": "94e542df",
   "metadata": {},
   "outputs": [],
   "source": [
    "# Visualization 3: Monthly Sales Trend (Bar Chart)\n",
    "plt.figure(figsize=(10, 6))\n",
    "sns.barplot(x=monthly_sales_trend.index, y=monthly_sales_trend.values, palette='viridis')\n",
    "plt.title('Monthly Sales Trend')\n",
    "plt.xlabel('Month')\n",
    "plt.ylabel('Total Sales ($)')\n",
    "plt.xticks(range(1, 13))\n",
    "plt.show()"
   ]
  },
  {
   "cell_type": "code",
   "execution_count": null,
   "id": "7322bef5",
   "metadata": {},
   "outputs": [],
   "source": [
    "# Visualization for Customer Gender Analysis (Pie Chart)\n",
    "plt.figure(figsize=(5, 5))\n",
    "plt.pie(gender_distribution, labels=gender_distribution.index, autopct='%1.1f%%', startangle=140, colors=['#ff9999','#66b3ff'])\n",
    "plt.axis('equal')\n",
    "plt.title('Customer Gender Distribution')\n",
    "plt.show()"
   ]
  },
  {
   "cell_type": "code",
   "execution_count": null,
   "id": "04f194b5",
   "metadata": {},
   "outputs": [],
   "source": [
    "plt.figure(figsize=(10, 6))\n",
    "sns.lineplot(x='Day', y='Total Sales', data=df, hue='Branch')\n",
    "plt.title('Daily Sales Trend')\n",
    "plt.show()"
   ]
  },
  {
   "cell_type": "code",
   "execution_count": null,
   "id": "3354a3d6",
   "metadata": {},
   "outputs": [],
   "source": [
    "plt.figure(figsize=(10, 6))\n",
    "sns.histplot(df['Total Sales'], bins=30, kde=True)\n",
    "plt.title('Sales Distribution')\n",
    "plt.show()"
   ]
  },
  {
   "cell_type": "code",
   "execution_count": null,
   "id": "934a2531",
   "metadata": {},
   "outputs": [],
   "source": [
    "plt.figure(figsize=(10, 6))\n",
    "sns.barplot(x='Product line', y='Total Sales', data=df)\n",
    "plt.xticks(rotation=45)\n",
    "plt.title('Sales by Product Line')\n",
    "plt.show()\n"
   ]
  },
  {
   "cell_type": "code",
   "execution_count": null,
   "id": "d1d5d056",
   "metadata": {},
   "outputs": [],
   "source": [
    "# Histogram for Unit Price\n",
    "plt.figure(figsize=(10, 6))\n",
    "sns.histplot(df['Unit price'], bins=20, kde=True)\n",
    "plt.title('Distribution of Unit Price')\n",
    "plt.show()"
   ]
  },
  {
   "cell_type": "code",
   "execution_count": null,
   "id": "af4d365a",
   "metadata": {},
   "outputs": [],
   "source": [
    "# Heatmap for Correlation\n",
    "plt.figure(figsize=(10, 6))\n",
    "corr = df.corr()\n",
    "sns.heatmap(corr, annot=True, cmap='coolwarm')\n",
    "plt.title('Correlation Heatmap')\n",
    "plt.show()\n"
   ]
  },
  {
   "cell_type": "code",
   "execution_count": null,
   "id": "59759b7f",
   "metadata": {},
   "outputs": [],
   "source": [
    "# Boxplot for Total Sales by Product Line\n",
    "plt.figure(figsize=(10, 6))\n",
    "sns.boxplot(x='Product line', y='Total Sales', data=df)\n",
    "plt.xticks(rotation=45)\n",
    "plt.title('Boxplot of Total Sales by Product Line')\n",
    "plt.show()"
   ]
  }
 ],
 "metadata": {
  "kernelspec": {
   "display_name": "Python 3 (ipykernel)",
   "language": "python",
   "name": "python3"
  },
  "language_info": {
   "codemirror_mode": {
    "name": "ipython",
    "version": 3
   },
   "file_extension": ".py",
   "mimetype": "text/x-python",
   "name": "python",
   "nbconvert_exporter": "python",
   "pygments_lexer": "ipython3",
   "version": "3.9.12"
  }
 },
 "nbformat": 4,
 "nbformat_minor": 5
}
